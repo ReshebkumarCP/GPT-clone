{
 "cells": [
  {
   "cell_type": "code",
   "execution_count": 5,
   "metadata": {},
   "outputs": [],
   "source": [
    "import torch\n",
    "import torch.nn.functional as F\n",
    "import matplotlib.pyplot as plt\n",
    "%matplotlib inline"
   ]
  },
  {
   "cell_type": "code",
   "execution_count": 6,
   "metadata": {},
   "outputs": [
    {
     "data": {
      "text/plain": [
       "['emma',\n",
       " 'olivia',\n",
       " 'ava',\n",
       " 'isabella',\n",
       " 'sophia',\n",
       " 'charlotte',\n",
       " 'mia',\n",
       " 'amelia',\n",
       " 'harper',\n",
       " 'evelyn']"
      ]
     },
     "execution_count": 6,
     "metadata": {},
     "output_type": "execute_result"
    }
   ],
   "source": [
    "# to read in all the words\n",
    "words=open('names.txt', 'r').read().splitlines()\n",
    "words[:10]"
   ]
  },
  {
   "cell_type": "code",
   "execution_count": 7,
   "metadata": {},
   "outputs": [
    {
     "data": {
      "text/plain": [
       "32033"
      ]
     },
     "execution_count": 7,
     "metadata": {},
     "output_type": "execute_result"
    }
   ],
   "source": [
    "len(words)"
   ]
  },
  {
   "cell_type": "code",
   "execution_count": 8,
   "metadata": {},
   "outputs": [
    {
     "name": "stdout",
     "output_type": "stream",
     "text": [
      "{1: 'a', 2: 'b', 3: 'c', 4: 'd', 5: 'e', 6: 'f', 7: 'g', 8: 'h', 9: 'i', 10: 'j', 11: 'k', 12: 'l', 13: 'm', 14: 'n', 15: 'o', 16: 'p', 17: 'q', 18: 'r', 19: 's', 20: 't', 21: 'u', 22: 'v', 23: 'w', 24: 'x', 25: 'y', 26: 'z', 0: '.'}\n"
     ]
    }
   ],
   "source": [
    "# to build a vocabulory of charecters to/from integers like string to integer and vise versa\n",
    "chars=sorted(list(set(''.join(words))))\n",
    "stoi={s:i+1 for i,s in enumerate (chars)}\n",
    "stoi['.']=0\n",
    "itos={i:s for s,i in stoi.items()}\n",
    "print(itos)"
   ]
  },
  {
   "cell_type": "code",
   "execution_count": null,
   "metadata": {},
   "outputs": [],
   "source": [
    "# To build the dataset\n",
    "\n",
    "block_size = 3 # it is the context length of how many charecters do we take to predict the next one ?\n",
    "X ,Y  =[],[] # X are the input to the neuralnet and Y are the lables for each inside X\n",
    "for w in words: # first using only five words for efficiency then will change  it to use all the words\n",
    "    # print (w)\n",
    "    context=[0] *block_size   # Start with zero-padding\n",
    "    for ch in w +'.':          # Adding '.' as an end token\n",
    "        ix=stoi[ch]             # Convert character to its index using stoi\n",
    "        X.append(context)\n",
    "        Y.append(ix)\n",
    "        print(''.join (itos[i] for i in context), '----->', itos[ix])\n",
    "        context=context[1:]+[ix] #context[1:] removes the first element (shifts left). #[ix] appends the new character index. #This maintains the sliding window of block_size.\n",
    "\n",
    "X= torch.tensor(X) # converting the list into tensor values\n",
    "Y= torch.tensor(Y)\n"
   ]
  },
  {
   "cell_type": "code",
   "execution_count": 10,
   "metadata": {},
   "outputs": [
    {
     "data": {
      "text/plain": [
       "(torch.Size([228146, 3]), torch.int64, torch.Size([228146]), torch.int64)"
      ]
     },
     "execution_count": 10,
     "metadata": {},
     "output_type": "execute_result"
    }
   ],
   "source": [
    "X.shape , X.dtype , Y.shape , Y.dtype"
   ]
  },
  {
   "cell_type": "code",
   "execution_count": 11,
   "metadata": {},
   "outputs": [
    {
     "data": {
      "text/plain": [
       "tensor([[ 0,  0,  0],\n",
       "        [ 0,  0,  5],\n",
       "        [ 0,  5, 13],\n",
       "        ...,\n",
       "        [26, 26, 25],\n",
       "        [26, 25, 26],\n",
       "        [25, 26, 24]])"
      ]
     },
     "execution_count": 11,
     "metadata": {},
     "output_type": "execute_result"
    }
   ],
   "source": [
    "X\n"
   ]
  },
  {
   "cell_type": "code",
   "execution_count": 12,
   "metadata": {},
   "outputs": [],
   "source": [
    "# Now let us build a neural network which predict the value Y using th value X"
   ]
  },
  {
   "cell_type": "code",
   "execution_count": 13,
   "metadata": {},
   "outputs": [
    {
     "data": {
      "text/plain": [
       "tensor([[-1.5772, -0.0025],\n",
       "        [ 0.3170, -0.3362],\n",
       "        [-0.0216, -0.3525],\n",
       "        [ 0.6966,  0.6091],\n",
       "        [-0.1224, -1.4854],\n",
       "        [-0.7291, -0.3354],\n",
       "        [ 0.5792,  0.1121],\n",
       "        [ 2.3223, -1.0065],\n",
       "        [ 0.0622, -1.3504],\n",
       "        [-0.4041, -0.3916],\n",
       "        [-0.0816,  2.4101],\n",
       "        [-0.1124, -0.0979],\n",
       "        [ 0.9037,  0.8303],\n",
       "        [ 0.4848,  0.8453],\n",
       "        [-1.4503,  0.2181],\n",
       "        [-0.3215, -0.0617],\n",
       "        [ 0.7041, -0.9014],\n",
       "        [-0.0736,  0.9330],\n",
       "        [ 1.2171, -0.7999],\n",
       "        [-0.3266,  1.3197],\n",
       "        [ 0.2544,  0.2957],\n",
       "        [-0.3799, -0.1152],\n",
       "        [ 0.5547, -0.8921],\n",
       "        [ 0.0210,  0.6435],\n",
       "        [-1.4121, -0.4015],\n",
       "        [ 0.6064,  1.5364],\n",
       "        [-1.9934,  2.0162]])"
      ]
     },
     "execution_count": 13,
     "metadata": {},
     "output_type": "execute_result"
    }
   ],
   "source": [
    "# we have 27 posible charecters  in which we are going to emmbed them in a lower dimentional space\n",
    "C=torch.randn(27,2) # To generate random values for 27 charecters in an two dimentional space\n",
    "C"
   ]
  },
  {
   "cell_type": "code",
   "execution_count": 14,
   "metadata": {},
   "outputs": [],
   "source": [
    "#F.one_hot(torch.tensor(5), num_classes=27).float() @ C  # converting into a one_hot format where the value place will be zero"
   ]
  },
  {
   "cell_type": "code",
   "execution_count": 15,
   "metadata": {},
   "outputs": [
    {
     "data": {
      "text/plain": [
       "tensor([[[-1.5772, -0.0025],\n",
       "         [-1.5772, -0.0025],\n",
       "         [-1.5772, -0.0025]],\n",
       "\n",
       "        [[-1.5772, -0.0025],\n",
       "         [-1.5772, -0.0025],\n",
       "         [-0.7291, -0.3354]],\n",
       "\n",
       "        [[-1.5772, -0.0025],\n",
       "         [-0.7291, -0.3354],\n",
       "         [ 0.4848,  0.8453]],\n",
       "\n",
       "        ...,\n",
       "\n",
       "        [[-1.9934,  2.0162],\n",
       "         [-1.9934,  2.0162],\n",
       "         [ 0.6064,  1.5364]],\n",
       "\n",
       "        [[-1.9934,  2.0162],\n",
       "         [ 0.6064,  1.5364],\n",
       "         [-1.9934,  2.0162]],\n",
       "\n",
       "        [[ 0.6064,  1.5364],\n",
       "         [-1.9934,  2.0162],\n",
       "         [-1.4121, -0.4015]]])"
      ]
     },
     "execution_count": 15,
     "metadata": {},
     "output_type": "execute_result"
    }
   ],
   "source": [
    "# Emmedding using pytorch indexing\n",
    "emb = C[X]\n",
    "emb\n"
   ]
  },
  {
   "cell_type": "code",
   "execution_count": 16,
   "metadata": {},
   "outputs": [],
   "source": [
    "W1 =torch.randn(6,100)# The number of inputs are 6 as its 2 dimentional emmedings and there are 3 as block size and we take no of neurons in the hidden layer as 100 for example\n",
    "b1= torch.randn(100)\n"
   ]
  },
  {
   "cell_type": "code",
   "execution_count": 17,
   "metadata": {},
   "outputs": [],
   "source": [
    "# emb @ W+ b this is what we want to do basically but we have a problem because those tensors are of different shape so we have to turn the [32 , 3 , 2] into [32 , 6] in order to perform this multiplication"
   ]
  },
  {
   "cell_type": "code",
   "execution_count": 18,
   "metadata": {},
   "outputs": [],
   "source": [
    "#torch.cat([emb[:,0,:], emb[:,1,:], emb[:,2,:]],1) .shape# used to concatenate those three tensors as 32,6 across dimention 1\n",
    "#but we wont use this code as we manually entered those values as 3 and we have to use another function in pytorch called unbind which does automatically"
   ]
  },
  {
   "cell_type": "code",
   "execution_count": 19,
   "metadata": {},
   "outputs": [],
   "source": [
    "#torch.cat(torch.unbind(emb,1),1).shape # This unbind function concatenates the emb accross  dimention 1\n",
    "# But this is inefficient and creates all kind of new memory so we are using .view to manipulate it to concatenate the tensors"
   ]
  },
  {
   "cell_type": "code",
   "execution_count": 20,
   "metadata": {},
   "outputs": [],
   "source": [
    "h=torch.tanh(emb.view(-1,6) @ W1 + b1) # here we use view to concatenate as we give -1 so the pytorch automatically assumes it as 32 or any other values and to0 calculate h we have to use tanh"
   ]
  },
  {
   "cell_type": "code",
   "execution_count": 21,
   "metadata": {},
   "outputs": [
    {
     "data": {
      "text/plain": [
       "torch.Size([228146, 100])"
      ]
     },
     "execution_count": 21,
     "metadata": {},
     "output_type": "execute_result"
    }
   ],
   "source": [
    "h.shape # the sixe is 32, 100 because ther are 32 examples going  to 100 neurons in the hidden layer "
   ]
  },
  {
   "cell_type": "code",
   "execution_count": 22,
   "metadata": {},
   "outputs": [],
   "source": [
    "# now we have to do the final layer \n",
    "W2 =torch.randn((100,27))\n",
    "b2 =torch.randn(27)"
   ]
  },
  {
   "cell_type": "code",
   "execution_count": 23,
   "metadata": {},
   "outputs": [],
   "source": [
    "logits= h @ W2 +b2 # Then we have to perform the same as makemore 1 do the calculation and find exponential and find the probability and normalize it"
   ]
  },
  {
   "cell_type": "code",
   "execution_count": 24,
   "metadata": {},
   "outputs": [
    {
     "data": {
      "text/plain": [
       "torch.Size([228146, 27])"
      ]
     },
     "execution_count": 24,
     "metadata": {},
     "output_type": "execute_result"
    }
   ],
   "source": [
    "logits.shape"
   ]
  },
  {
   "cell_type": "code",
   "execution_count": 25,
   "metadata": {},
   "outputs": [],
   "source": [
    "counts=logits.exp()"
   ]
  },
  {
   "cell_type": "code",
   "execution_count": 26,
   "metadata": {},
   "outputs": [],
   "source": [
    "prob=counts / counts.sum(1,keepdims=True)"
   ]
  },
  {
   "cell_type": "code",
   "execution_count": 27,
   "metadata": {},
   "outputs": [],
   "source": [
    "# loss=-prob[torch.arange(32),Y].log().mean() # this is the loss of the network to predic the next charecter\n",
    "# loss"
   ]
  },
  {
   "cell_type": "code",
   "execution_count": 28,
   "metadata": {},
   "outputs": [],
   "source": [
    "# ---------------clear view--------------------#"
   ]
  },
  {
   "cell_type": "code",
   "execution_count": 190,
   "metadata": {},
   "outputs": [],
   "source": [
    "g = torch. Generator().manual_seed (2147483647) # for reproducibility\n",
    "C = torch.randn((27, 10), generator=g)\n",
    "W1 =torch. randn((30, 200), generator=g)\n",
    "b1 =torch.randn (200, generator=g)\n",
    "W2 =torch. randn((200, 27), generator=g)\n",
    "b2 =torch.randn (27, generator=g)\n",
    "parameters = [C, W1, b1, W2, b2]"
   ]
  },
  {
   "cell_type": "code",
   "execution_count": 191,
   "metadata": {},
   "outputs": [
    {
     "data": {
      "text/plain": [
       "11897"
      ]
     },
     "execution_count": 191,
     "metadata": {},
     "output_type": "execute_result"
    }
   ],
   "source": [
    "sum(p.nelement() for p in parameters) # number of parameters in total"
   ]
  },
  {
   "cell_type": "code",
   "execution_count": 192,
   "metadata": {},
   "outputs": [],
   "source": [
    "for p in parameters:\n",
    "    p.requires_grad=True"
   ]
  },
  {
   "cell_type": "code",
   "execution_count": null,
   "metadata": {},
   "outputs": [],
   "source": [
    "for _ in range  (10):\n",
    "    #Forward Pass\n",
    "    emb = C[X] # (32, 3, 2)\n",
    "    h = torch.tanh (emb.view(-1, 6) @ W1 + b1) # (32, 100)\n",
    "    logits =h@ W2 + b2 # (32, 27)\n",
    "    #counts = logits.exp()\n",
    "    # prob = counts / counts.sum (1, keepdims=True)\n",
    "    # loss = -prob [torch.arange(32), Y].log() .mean()\n",
    "    loss=F.cross_entropy (logits, Y) # using cross entropy because it wont create more tensors like previous method\n",
    "    print(loss.item())\n",
    "\n",
    "    #Backward Pass\n",
    "    for p in parameters:\n",
    "        p.grad=None\n",
    "    loss.backward()\n",
    "\n",
    "    #update\n",
    "    for p in parameters:\n",
    "        p.data+= -0.1 *p.grad\n",
    "# print(loss.item())"
   ]
  },
  {
   "cell_type": "code",
   "execution_count": 55,
   "metadata": {},
   "outputs": [],
   "source": [
    "# The above process may take a lot of time because of large no of example in practically people create it as some mini batches and run it"
   ]
  },
  {
   "cell_type": "code",
   "execution_count": 222,
   "metadata": {},
   "outputs": [
    {
     "name": "stdout",
     "output_type": "stream",
     "text": [
      "torch.Size([182400, 3]) torch.Size([182400])\n",
      "torch.Size([22962, 3]) torch.Size([22962])\n",
      "torch.Size([22784, 3]) torch.Size([22784])\n"
     ]
    }
   ],
   "source": [
    "# build the dataset\n",
    "def build_dataset (words):# Takes some list of words\n",
    "    block_size = 3 # context length: how many characters do we take to predict the next one?\n",
    "    X, Y =[], [] # To build the arrays for those words\n",
    "    for w in words:\n",
    "        #print(w)\n",
    "        context = [0] * block_size\n",
    "        for ch in w + '.':\n",
    "            ix = stoi[ch]\n",
    "            X.append(context)\n",
    "            Y.append(ix)\n",
    "            #print('.join(itos [i] for i in context), '--->', itos [ix])\n",
    "            context = context [1:] + [ix] # crop and append\n",
    "    X =torch.tensor (X)\n",
    "    Y =torch.tensor (Y)\n",
    "    print (X. shape, Y.shape)\n",
    "    return X, Y\n",
    "import random\n",
    "random.seed(42)\n",
    "random.shuffle (words)# randomly shuffling up all the words\n",
    "n1 = int(0.8*len (words)) # The number of examples to be 80 % of the words\n",
    "n2 =int(0.9*len (words)) # The number of examples to be 90 % of the words\n",
    "Xtr, Ytr = build_dataset (words[:n1]) # Calling this function for building the training set Xtr and Ytr by indexing upto n1 ie 80 % training words\n",
    "Xdev, Ydev = build_dataset (words [n1: n2])# Calling this fuction for building dev dataset Xdev and Y dev by indexing upto n2-n1 3000 examples\n",
    "Xte, Yte =build_dataset (words [n2:])# Calling this function for building test dataset Xte and Yte by indexing len(words)-n2 as our examples for the test set"
   ]
  },
  {
   "cell_type": "code",
   "execution_count": 223,
   "metadata": {},
   "outputs": [],
   "source": [
    "lre =torch.linspace(-3, 0 , 1000)\n",
    "lrs =10**lre"
   ]
  },
  {
   "cell_type": "code",
   "execution_count": 224,
   "metadata": {},
   "outputs": [],
   "source": [
    "lri=[]\n",
    "lossi=[]\n",
    "stepi=[]"
   ]
  },
  {
   "cell_type": "code",
   "execution_count": 261,
   "metadata": {},
   "outputs": [],
   "source": [
    "\n",
    "\n",
    "for i in range  (50000):\n",
    "\n",
    "    #Constructing a mini batch\n",
    "    ix= torch.randint(0,Xtr.shape[0],(32,))\n",
    "\n",
    "    #Forward Pass\n",
    "    emb = C[Xtr[ix]] # (32, 3, 2)\n",
    "    h = torch.tanh (emb.view(-1, 30) @ W1 + b1) # (32, 100)\n",
    "    logits =h@ W2 + b2 # (32, 27)\n",
    "    #counts = logits.exp()\n",
    "    # prob = counts / counts.sum (1, keepdims=True)\n",
    "    # loss = -prob [torch.arange(32), Y].log() .mean()\n",
    "    loss=F.cross_entropy (logits, Ytr[ix]) # using cross entropy because it wont create more tensors like previous method\n",
    "    #print(loss.item())\n",
    "\n",
    "    #Backward Pass\n",
    "    for p in parameters:\n",
    "        p.grad=None\n",
    "    loss.backward()\n",
    "\n",
    "    #update\n",
    "    # lr=lrs[i]\n",
    "    lr=0.01\n",
    "    for p in parameters:\n",
    "        p.data+= -lr *p.grad\n",
    "\n",
    "    # # Track Stats\n",
    "    # lri.append(lre[i])\n",
    "    stepi.append(i)\n",
    "    lossi.append(loss.log10().item())\n",
    "# print(loss.item())"
   ]
  },
  {
   "cell_type": "code",
   "execution_count": 252,
   "metadata": {},
   "outputs": [
    {
     "data": {
      "text/plain": [
       "[<matplotlib.lines.Line2D at 0x76ed4c11d390>]"
      ]
     },
     "execution_count": 252,
     "metadata": {},
     "output_type": "execute_result"
    },
    {
     "data": {
      "image/png": "[encoded data removed]",
      "text/plain": [
       "<Figure size 640x480 with 1 Axes>"
      ]
     },
     "metadata": {},
     "output_type": "display_data"
    }
   ],
   "source": [
    "plt.plot(stepi,lossi)"
   ]
  },
  {
   "cell_type": "code",
   "execution_count": 253,
   "metadata": {},
   "outputs": [
    {
     "name": "stdout",
     "output_type": "stream",
     "text": [
      "1.8335037231445312\n"
     ]
    }
   ],
   "source": [
    "print(loss.item())"
   ]
  },
  {
   "cell_type": "code",
   "execution_count": 254,
   "metadata": {},
   "outputs": [
    {
     "data": {
      "text/plain": [
       "[<matplotlib.lines.Line2D at 0x76ed4c11d2d0>]"
      ]
     },
     "execution_count": 254,
     "metadata": {},
     "output_type": "execute_result"
    },
    {
     "data": {
      "image/png": "[encoded data removed]",
      "text/plain": [
       "<Figure size 640x480 with 1 Axes>"
      ]
     },
     "metadata": {},
     "output_type": "display_data"
    }
   ],
   "source": [
    "plt.plot(stepi,lossi)"
   ]
  },
  {
   "cell_type": "code",
   "execution_count": 255,
   "metadata": {},
   "outputs": [],
   "source": [
    "# plt.plot(lri,lossi)"
   ]
  },
  {
   "cell_type": "code",
   "execution_count": 256,
   "metadata": {},
   "outputs": [
    {
     "data": {
      "text/plain": [
       "tensor(2.1082, grad_fn=<NllLossBackward0>)"
      ]
     },
     "execution_count": 256,
     "metadata": {},
     "output_type": "execute_result"
    }
   ],
   "source": [
    "emb = C[Xtr] # (32, 3, 2)\n",
    "h= torch.tanh (emb.view(-1, 30) @ W1 + b1) #(32, 100)\n",
    "logits= h @ W2+ b2 # (32, 27)\n",
    "loss =F.cross_entropy (logits, Ytr)\n",
    "loss"
   ]
  },
  {
   "cell_type": "code",
   "execution_count": 258,
   "metadata": {},
   "outputs": [
    {
     "data": {
      "text/plain": [
       "tensor(2.1521, grad_fn=<NllLossBackward0>)"
      ]
     },
     "execution_count": 258,
     "metadata": {},
     "output_type": "execute_result"
    }
   ],
   "source": [
    "emb = C[Xdev] # (32, 3, 2)\n",
    "h= torch.tanh (emb.view(-1, 30) @ W1 + b1) #(32, 100)\n",
    "logits= h @ W2+ b2 # (32, 27)\n",
    "loss =F.cross_entropy (logits, Ydev)\n",
    "loss"
   ]
  },
  {
   "cell_type": "code",
   "execution_count": 243,
   "metadata": {},
   "outputs": [],
   "source": [
    "# Training split ,dev/validation split , test split\n",
    "#80% , 10% ,10%"
   ]
  },
  {
   "cell_type": "code",
   "execution_count": 244,
   "metadata": {},
   "outputs": [],
   "source": [
    "# The 80% of the data we use in the training set is used to optimize the parameters in the model\n",
    "# The 10% of the examples ie the dev or validation split is used for development of all the hyper parameters ie  for example the size of the hidden layer or the size of the embedding\n",
    "# The 10% of the Test split is used to evaluate the performance of the model at the end \n",
    "# We only evaluate  the loss on the test split only for a few times because we will risk it to the model becoming more overfitting to the test split because every single time when we evaluate our data we basically learning or training from it"
   ]
  },
  {
   "cell_type": "code",
   "execution_count": 259,
   "metadata": {},
   "outputs": [
    {
     "data": {
      "image/png": "[encoded data removed]",
      "text/plain": [
       "<Figure size 800x800 with 1 Axes>"
      ]
     },
     "metadata": {},
     "output_type": "display_data"
    }
   ],
   "source": [
    "plt.figure(figsize=(8,8))\n",
    "plt.scatter (C[:,0].data, C[:,1].data, s=200)\n",
    "for i in range (C. shape [0]):\n",
    "    plt.text(C[i,0].item(), C[i,1].item(), itos [i], ha=\"center\", va=\"center\", color='white')\n",
    "plt.grid('minor')"
   ]
  },
  {
   "cell_type": "code",
   "execution_count": 260,
   "metadata": {},
   "outputs": [
    {
     "name": "stdout",
     "output_type": "stream",
     "text": [
      "mora.\n",
      "kayanna.\n",
      "elend.\n",
      "rylle.\n",
      "emman.\n",
      "ejd.\n",
      "leg.\n",
      "adeerdielin.\n",
      "shi.\n",
      "jenne.\n",
      "elieananaraelyn.\n",
      "malaia.\n",
      "nosaddergiad.\n",
      "jest.\n",
      "jairendy.\n",
      "panthuor.\n",
      "urzey.\n",
      "dariyah.\n",
      "faeha.\n",
      "kayshayton.\n"
     ]
    }
   ],
   "source": [
    "#       Sample from the model\n",
    "\n",
    "g= torch.Generator().manual_seed(2147483647 +10)\n",
    "\n",
    "for _ in range(20):\n",
    "    out=[]\n",
    "    context= [0]* block_size\n",
    "    while True:\n",
    "        emb =C[torch.tensor([context])]\n",
    "        h = torch.tanh (emb.view(1, -1) @ W1 + b1) \n",
    "        logits= h @ W2 +b2\n",
    "        probs = F.softmax(logits , dim =1)\n",
    "        ix=torch.multinomial(probs, num_samples=1, generator=g).item()\n",
    "        context=context[1:]+[ix]\n",
    "        out.append(ix)\n",
    "        if ix== 0:\n",
    "           break\n",
    "    print(''.join(itos [i] for i in out))\n",
    "        "
   ]
  },
  {
   "cell_type": "code",
   "execution_count": null,
   "metadata": {},
   "outputs": [],
   "source": []
  }
 ],
 "metadata": {
  "kernelspec": {
   "display_name": "Python 3",
   "language": "python",
   "name": "python3"
  },
  "language_info": {
   "codemirror_mode": {
    "name": "ipython",
    "version": 3
   },
   "file_extension": ".py",
   "mimetype": "text/x-python",
   "name": "python",
   "nbconvert_exporter": "python",
   "pygments_lexer": "ipython3",
   "version": "3.10.12"
  }
 },
 "nbformat": 4,
 "nbformat_minor": 2
}
