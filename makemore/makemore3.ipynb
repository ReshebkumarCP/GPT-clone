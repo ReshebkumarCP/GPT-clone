{
 "cells": [
  {
   "cell_type": "code",
   "execution_count": 20,
   "metadata": {},
   "outputs": [],
   "source": [
    "import torch\n",
    "import torch.nn.functional as F\n",
    "import matplotlib.pyplot as plt\n",
    "%matplotlib inline"
   ]
  },
  {
   "cell_type": "code",
   "execution_count": null,
   "metadata": {},
   "outputs": [
    {
     "data": {
      "text/plain": [
       "['emma',\n",
       " 'olivia',\n",
       " 'ava',\n",
       " 'isabella',\n",
       " 'sophia',\n",
       " 'charlotte',\n",
       " 'mia',\n",
       " 'amelia',\n",
       " 'harper',\n",
       " 'evelyn']"
      ]
     },
     "execution_count": 21,
     "metadata": {},
     "output_type": "execute_result"
    }
   ],
   "source": [
    "# to read in all the words\n",
    "words=open('names.txt', 'r').read().splitlines()\n",
    "words[:10]"
   ]
  },
  {
   "cell_type": "code",
   "execution_count": 22,
   "metadata": {},
   "outputs": [
    {
     "data": {
      "text/plain": [
       "32033"
      ]
     },
     "execution_count": 22,
     "metadata": {},
     "output_type": "execute_result"
    }
   ],
   "source": [
    "len(words)"
   ]
  },
  {
   "cell_type": "code",
   "execution_count": 23,
   "metadata": {},
   "outputs": [
    {
     "name": "stdout",
     "output_type": "stream",
     "text": [
      "{1: 'a', 2: 'b', 3: 'c', 4: 'd', 5: 'e', 6: 'f', 7: 'g', 8: 'h', 9: 'i', 10: 'j', 11: 'k', 12: 'l', 13: 'm', 14: 'n', 15: 'o', 16: 'p', 17: 'q', 18: 'r', 19: 's', 20: 't', 21: 'u', 22: 'v', 23: 'w', 24: 'x', 25: 'y', 26: 'z', 0: '.'}\n",
      "27\n"
     ]
    }
   ],
   "source": [
    "# to build a vocabulory of charecters to/from integers like string to integer and vise versa\n",
    "chars=sorted(list(set(''.join(words))))\n",
    "stoi={s:i+1 for i,s in enumerate (chars)}\n",
    "stoi['.']=0\n",
    "itos={i:s for s,i in stoi.items()}\n",
    "vocab_size=len(itos)\n",
    "print(itos)\n",
    "print(vocab_size)"
   ]
  },
  {
   "cell_type": "code",
   "execution_count": 24,
   "metadata": {},
   "outputs": [
    {
     "name": "stdout",
     "output_type": "stream",
     "text": [
      "torch.Size([182625, 3]) torch.Size([182625])\n",
      "torch.Size([22655, 3]) torch.Size([22655])\n",
      "torch.Size([22866, 3]) torch.Size([22866])\n"
     ]
    }
   ],
   "source": [
    "block_size = 3 # context length: how many characters do we take to predict the next one?\n",
    "#build the dataset\n",
    "def build_dataset (words):# Takes some list of words\n",
    "    \n",
    "    X, Y =[], [] # To build the arrays for those words\n",
    "    for w in words:\n",
    "        #print(w)\n",
    "        context = [0] * block_size\n",
    "        for ch in w + '.':\n",
    "            ix = stoi[ch]\n",
    "            X.append(context)\n",
    "            Y.append(ix)\n",
    "            #print('.join(itos [i] for i in context), '--->', itos [ix])\n",
    "            context = context [1:] + [ix] # crop and append\n",
    "    X =torch.tensor (X)\n",
    "    Y =torch.tensor (Y)\n",
    "    print (X. shape, Y.shape)\n",
    "    return X, Y\n",
    "import random\n",
    "random.seed(42)\n",
    "random.shuffle (words)# randomly shuffling up all the words\n",
    "n1 = int(0.8*len (words)) # The number of examples to be 80 % of the words\n",
    "n2 =int(0.9*len (words)) # The number of examples to be 90 % of the words\n",
    "Xtr, Ytr = build_dataset (words[:n1]) # Calling this function for building the training set Xtr and Ytr by indexing upto n1 ie 80 % training words\n",
    "Xdev, Ydev = build_dataset (words [n1: n2])# Calling this fuction for building dev dataset Xdev and Y dev by indexing upto n2-n1 3000 examples\n",
    "Xte, Yte =build_dataset (words [n2:])# Calling this function for building test dataset Xte and Yte by indexing len(words)-n2 as our examples for the test set"
   ]
  },
  {
   "cell_type": "code",
   "execution_count": 113,
   "metadata": {},
   "outputs": [
    {
     "name": "stdout",
     "output_type": "stream",
     "text": [
      "11897\n"
     ]
    }
   ],
   "source": [
    "n_embd=10 # dimentionality of the charecter emmbedding vectors\n",
    "n_hidden=200# no of neurons in the hidden layer of the MLP\n",
    "g = torch. Generator().manual_seed (2147483647) # for reproducibility\n",
    "C = torch.randn((vocab_size, n_embd), generator=g)\n",
    "W1 =torch. randn((block_size* n_embd, n_hidden), generator=g)*0.1\n",
    "b1 =torch.randn (n_hidden, generator=g)*0.01\n",
    "W2 =torch. randn((n_hidden, vocab_size), generator=g)*0.01 # here we multiply the parameters with 0.01 amd 0 to reduse the greater initial loss and let the model optimise the loss function instead of squizing the values from the parameters to a higher loss\n",
    "b2 =torch.randn (vocab_size, generator=g)*0\n",
    "parameters = [C, W1, b1, W2, b2]\n",
    "print (sum(p.nelement() for p in parameters))\n",
    "for p in parameters:\n",
    "    p.requires_grad = True\n",
    "\n"
   ]
  },
  {
   "cell_type": "code",
   "execution_count": 201,
   "metadata": {},
   "outputs": [
    {
     "name": "stdout",
     "output_type": "stream",
     "text": [
      "      0/ 200000: 3.0703\n",
      "  10000/ 200000: 2.2924\n",
      "  20000/ 200000: 2.9331\n",
      "  30000/ 200000: 2.5900\n",
      "  40000/ 200000: 2.3502\n",
      "  50000/ 200000: 2.2967\n",
      "  60000/ 200000: 1.9347\n",
      "  70000/ 200000: 2.3354\n",
      "  80000/ 200000: 2.2107\n",
      "  90000/ 200000: 2.5865\n",
      " 100000/ 200000: 1.9137\n",
      " 110000/ 200000: 1.8769\n",
      " 120000/ 200000: 2.2145\n",
      " 130000/ 200000: 1.9580\n",
      " 140000/ 200000: 1.9250\n",
      " 150000/ 200000: 2.1793\n",
      " 160000/ 200000: 1.9860\n",
      " 170000/ 200000: 2.1019\n",
      " 180000/ 200000: 1.7853\n",
      " 190000/ 200000: 1.9285\n"
     ]
    }
   ],
   "source": [
    "# Same code befor written good here\n",
    "max_steps=200000\n",
    "batch_size=32\n",
    "lossi=[]\n",
    "\n",
    "for i in range  (max_steps):\n",
    "\n",
    "    #Constructing a mini batch\n",
    "    ix= torch.randint(0,Xtr.shape[0],(batch_size,),generator=g)\n",
    "    Xb , Yb =Xtr[ix], Ytr[ix] #batch x,y\n",
    "\n",
    "    # forward pass\n",
    "    emb =C[Xb] # embed the characters into vectors\n",
    "    embcat = emb.view (emb.shape[0], -1) # concatenate the vectors\n",
    "    hpreact =embcat @ W1 + b1 # hidden layer pre-activation\n",
    "    h = torch.tanh (hpreact) # hidden layer\n",
    "    logits =h @ W2 + b2 # output layer\n",
    "    loss = F. cross_entropy (logits, Yb) # loss function\n",
    "\n",
    "    #Backward Pass\n",
    "    for p in parameters:\n",
    "        p.grad=None\n",
    "    loss.backward()\n",
    "\n",
    "    #update\n",
    "    # lr=lrs[i]\n",
    "    lr=0.1 if i > 100000  else 0.01\n",
    "    for p in parameters:\n",
    "        p.data+= -lr *p.grad\n",
    "\n",
    "    # # Track Stats\n",
    "    \n",
    "    if i % 10000 == 0:\n",
    "        print(f'{i:7d}/{max_steps:7d}: {loss.item():.4f}')\n",
    "    lossi.append(loss.log10().item())\n",
    "\n",
    "    # break\n",
    "# print(loss.item())"
   ]
  },
  {
   "cell_type": "code",
   "execution_count": 202,
   "metadata": {},
   "outputs": [
    {
     "data": {
      "text/plain": [
       "<matplotlib.image.AxesImage at 0x712e64b2a080>"
      ]
     },
     "execution_count": 202,
     "metadata": {},
     "output_type": "execute_result"
    },
    {
     "data": {
      "image/png": "[encoded data removed]",
      "text/plain": [
       "<Figure size 2000x1000 with 1 Axes>"
      ]
     },
     "metadata": {},
     "output_type": "display_data"
    }
   ],
   "source": [
    "plt.figure(figsize=(20,10))\n",
    "plt.imshow(h.abs()>0.99 , cmap='gray', interpolation='nearest')"
   ]
  },
  {
   "cell_type": "code",
   "execution_count": 203,
   "metadata": {},
   "outputs": [
    {
     "data": {
      "text/plain": [
       "tensor([[-0.0207,  0.0219,  0.0120,  ..., -0.1090,  0.2941, -0.1802],\n",
       "        [ 0.9989, -0.2555, -0.9084,  ...,  0.8771, -0.9998, -0.9733],\n",
       "        [ 0.8992, -0.0409, -0.9995,  ..., -0.9953,  0.9976, -0.5184],\n",
       "        ...,\n",
       "        [-0.9973, -0.8341, -0.9932,  ...,  1.0000, -0.4327, -0.9944],\n",
       "        [ 0.9988, -0.2412, -0.1977,  ..., -0.9994,  0.9272,  0.9734],\n",
       "        [ 0.9592, -0.9669, -0.9939,  ..., -0.4476, -0.9990,  0.9988]],\n",
       "       grad_fn=<TanhBackward0>)"
      ]
     },
     "execution_count": 203,
     "metadata": {},
     "output_type": "execute_result"
    }
   ],
   "source": [
    "h"
   ]
  },
  {
   "cell_type": "code",
   "execution_count": 204,
   "metadata": {},
   "outputs": [
    {
     "data": {
      "text/plain": [
       "[<matplotlib.lines.Line2D at 0x712e655b32e0>]"
      ]
     },
     "execution_count": 204,
     "metadata": {},
     "output_type": "execute_result"
    },
    {
     "data": {
      "image/png": "[encoded data removed]",
      "text/plain": [
       "<Figure size 640x480 with 1 Axes>"
      ]
     },
     "metadata": {},
     "output_type": "display_data"
    }
   ],
   "source": [
    "plt.plot(lossi)"
   ]
  },
  {
   "cell_type": "code",
   "execution_count": 205,
   "metadata": {},
   "outputs": [
    {
     "data": {
      "text/plain": [
       "tensor(3.2958)"
      ]
     },
     "execution_count": 205,
     "metadata": {},
     "output_type": "execute_result"
    }
   ],
   "source": [
    "-torch.tensor(1/27).log()"
   ]
  },
  {
   "cell_type": "code",
   "execution_count": 206,
   "metadata": {},
   "outputs": [
    {
     "name": "stdout",
     "output_type": "stream",
     "text": [
      "train 2.1413023471832275\n",
      "val 2.2041380405426025\n"
     ]
    }
   ],
   "source": [
    "@torch.no_grad() # this decorator disables gradient tracking THIS REFERS TO WHATEVER HAPPENS IN THIS FUNCTION  TELLS PYTORCH THAT IT NERVER REQUIRES A GRADIENT \n",
    "def split_loss (split):\n",
    "    x, y = {\n",
    "        'train': (Xtr, Ytr),\n",
    "        'val':(Xdev, Ydev),\n",
    "        'test' :(Xte, Yte),\n",
    "    } [split]\n",
    "    emb = C [x] # (N, block_size, n_embd)\n",
    "    embcat = emb.view (emb.shape[0], -1) # concat into (N, block_size* n_embd)\n",
    "    h = torch.tanh(embcat @ W1 + b1) # (N, n_hidden)\n",
    "    logits =h @ W2 + b2 # (N, vocab_size)\n",
    "    loss = F.cross_entropy (logits, y)\n",
    "    print(split, loss.item())\n",
    "split_loss('train')\n",
    "split_loss('val')"
   ]
  },
  {
   "cell_type": "code",
   "execution_count": 207,
   "metadata": {},
   "outputs": [],
   "source": [
    "# ^^^ just written the same code for finding train loss and val loss in the same code block"
   ]
  },
  {
   "cell_type": "code",
   "execution_count": 208,
   "metadata": {},
   "outputs": [
    {
     "name": "stdout",
     "output_type": "stream",
     "text": [
      "mora.\n",
      "kmyannie.\n",
      "sand.\n",
      "ryllarethan.\n",
      "brerlee.\n",
      "adee.\n",
      "daelin.\n",
      "shi.\n",
      "jen.\n",
      "eden.\n",
      "van.\n",
      "nar.\n",
      "katellanker.\n",
      "nyshah.\n",
      "roshiransh.\n",
      "jair.\n",
      "jenell.\n",
      "tauson.\n",
      "brence.\n",
      "ryyah.\n"
     ]
    }
   ],
   "source": [
    "#       Sample from the model\n",
    "\n",
    "g= torch.Generator().manual_seed(2147483647 +10)\n",
    "\n",
    "for _ in range(20):\n",
    "    out=[]\n",
    "    context= [0]* block_size\n",
    "    while True:\n",
    "        emb =C[torch.tensor([context])]\n",
    "        h = torch.tanh (emb.view(1, -1) @ W1 + b1) \n",
    "        logits= h @ W2 +b2\n",
    "        probs = F.softmax(logits , dim =1)\n",
    "        ix=torch.multinomial(probs, num_samples=1, generator=g).item()\n",
    "        context=context[1:]+[ix]\n",
    "        out.append(ix)\n",
    "        if ix== 0:\n",
    "           break\n",
    "    print(''.join(itos [i] for i in out))\n",
    "        "
   ]
  },
  {
   "cell_type": "code",
   "execution_count": null,
   "metadata": {},
   "outputs": [],
   "source": []
  }
 ],
 "metadata": {
  "kernelspec": {
   "display_name": "Python 3",
   "language": "python",
   "name": "python3"
  },
  "language_info": {
   "codemirror_mode": {
    "name": "ipython",
    "version": 3
   },
   "file_extension": ".py",
   "mimetype": "text/x-python",
   "name": "python",
   "nbconvert_exporter": "python",
   "pygments_lexer": "ipython3",
   "version": "3.10.12"
  }
 },
 "nbformat": 4,
 "nbformat_minor": 2
}
